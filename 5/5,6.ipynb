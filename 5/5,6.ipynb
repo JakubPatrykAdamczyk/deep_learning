{
 "cells": [
  {
   "cell_type": "code",
   "execution_count": 1,
   "metadata": {},
   "outputs": [],
   "source": [
    "import keras\n",
    "import os\n",
    "import numpy as np\n",
    "import matplotlib.pyplot as plt\n",
    "from keras import layers,models,optimizers\n",
    "from keras import backend as K\n",
    "from keras.applications import VGG16\n",
    "from keras.preprocessing.image import ImageDataGenerator\n",
    "from keras.preprocessing import image\n",
    "from keras.applications.vgg16 import preprocess_input,decode_predictions\n",
    "from keras.utils import load_img,img_to_array"
   ]
  },
  {
   "cell_type": "code",
   "execution_count": 2,
   "metadata": {},
   "outputs": [
    {
     "name": "stdout",
     "output_type": "stream",
     "text": [
      "Downloading data from https://storage.googleapis.com/tensorflow/keras-applications/vgg16/vgg16_weights_tf_dim_ordering_tf_kernels.h5\n",
      "553467096/553467096 [==============================] - 86s 0us/step\n"
     ]
    }
   ],
   "source": [
    "model=VGG16(weights='imagenet')"
   ]
  },
  {
   "cell_type": "code",
   "execution_count": 3,
   "metadata": {},
   "outputs": [],
   "source": [
    "img_path='C:\\programowanie\\python\\deep learning\\\\5\\\\10023.jpg'\n",
    "img=load_img(img_path,target_size=(224,224))\n",
    "\n",
    "x=img_to_array(img)\n",
    "x=np.expand_dims(x,axis=0)\n",
    "x=preprocess_input(x)"
   ]
  },
  {
   "cell_type": "code",
   "execution_count": 4,
   "metadata": {},
   "outputs": [
    {
     "name": "stdout",
     "output_type": "stream",
     "text": [
      "1/1 [==============================] - 16s 16s/step\n",
      "Downloading data from https://storage.googleapis.com/download.tensorflow.org/data/imagenet_class_index.json\n",
      "35363/35363 [==============================] - 0s 1us/step\n",
      "Predicted: [('n02109047', 'Great_Dane', 0.40529603), ('n02093428', 'American_Staffordshire_terrier', 0.18131942), ('n02093256', 'Staffordshire_bullterrier', 0.12542632)]\n"
     ]
    }
   ],
   "source": [
    "#trenowanie i przewidywanie\n",
    "preds=model.predict(x)\n",
    "print('Predicted:',decode_predictions(preds,top=3)[0])"
   ]
  }
 ],
 "metadata": {
  "kernelspec": {
   "display_name": "Python 3",
   "language": "python",
   "name": "python3"
  },
  "language_info": {
   "codemirror_mode": {
    "name": "ipython",
    "version": 3
   },
   "file_extension": ".py",
   "mimetype": "text/x-python",
   "name": "python",
   "nbconvert_exporter": "python",
   "pygments_lexer": "ipython3",
   "version": "3.10.9"
  },
  "orig_nbformat": 4,
  "vscode": {
   "interpreter": {
    "hash": "2f9c62f4ec1edd975e1b5f8110d7cf5153d4e6ef454a08f3a37cf01ef6e18f5d"
   }
  }
 },
 "nbformat": 4,
 "nbformat_minor": 2
}
