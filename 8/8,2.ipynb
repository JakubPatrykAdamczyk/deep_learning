{
 "cells": [
  {
   "cell_type": "code",
   "execution_count": null,
   "metadata": {},
   "outputs": [],
   "source": [
    "from keras.applications import inception_v3\n",
    "from keras import backend as K\n",
    "import sys\n",
    "K.set_learning_phase(0)\n",
    "model=inception_v3.InceptionV3(weights='imagenet',include_top=False)\n",
    "\n",
    "import tensorflow as tf\n",
    "tf.compat.v1.disable_eager_execution()\n",
    "sys.setrecursionlimit(1500)"
   ]
  },
  {
   "cell_type": "code",
   "execution_count": null,
   "metadata": {},
   "outputs": [],
   "source": [
    "layer_contribuions={\n",
    "    'mixed2':0.2,\n",
    "    'mixed3':3.,\n",
    "    'mixed4':2.,\n",
    "    'mixed5':1.5,\n",
    "\n",
    "}"
   ]
  },
  {
   "cell_type": "code",
   "execution_count": null,
   "metadata": {},
   "outputs": [],
   "source": [
    "layer_dict=dict([(layer.name,layer)for layer in model.layers])\n",
    "\n",
    "loss=K.variable(0.)\n",
    "\n",
    "for layer_name in layer_contribuions:\n",
    "    coeff=layer_contribuions[layer_name]\n",
    "    activation=layer_dict[layer_name].output\n",
    "\n",
    "    scaling=K.prod(K.cast(K.shape(activation),'float32'))\n",
    "    loss.assign_add( coeff*K.sum(K.square(activation[:,2:-2,2:-2,:]))/scaling)"
   ]
  },
  {
   "cell_type": "code",
   "execution_count": null,
   "metadata": {},
   "outputs": [],
   "source": [
    "dream=model.input\n",
    "grads=K.gradients(loss,dream)[0]\n",
    "grads/=K.maximum(K.mean(K.abs(grads)),1e-7)\n",
    "\n",
    "outputs=[loss,grads]\n",
    "fetch_loss_and_grads=K.function([dream],outputs)\n",
    "\n",
    "def eval_loss_and_grads(x):\n",
    "    outs=fetch_loss_and_grads(x)\n",
    "    loss_value=outs[0]\n",
    "    grad_value=outs[1]\n",
    "    return loss_value,grad_value\n",
    "\n",
    "def gradient_ascent(x, iterations, step, max_loss=None):\n",
    "    for i in range(iterations):\n",
    "        loss_value, grad_values=eval_loss_and_grads(x)\n",
    "\n",
    "        if max_loss is not None and loss_value>max_loss:\n",
    "            break\n",
    "        print('Wartość straty ',i,' : ', loss_value)\n",
    "        x+=step*grad_values\n",
    "    return x\n",
    "\n"
   ]
  },
  {
   "cell_type": "code",
   "execution_count": null,
   "metadata": {},
   "outputs": [],
   "source": [
    "import numpy as np\n",
    "\n",
    "step=0.01\n",
    "num_octave=3\n",
    "octave_scale=1.4\n",
    "interations=20\n",
    "\n",
    "max_loss=10\n",
    "\n",
    "base_image_path='_'\n",
    "img=preprocess_image(base_image_path)\n",
    "\n"
   ]
  }
 ],
 "metadata": {
  "kernelspec": {
   "display_name": "Python 3",
   "language": "python",
   "name": "python3"
  },
  "language_info": {
   "codemirror_mode": {
    "name": "ipython",
    "version": 3
   },
   "file_extension": ".py",
   "mimetype": "text/x-python",
   "name": "python",
   "nbconvert_exporter": "python",
   "pygments_lexer": "ipython3",
   "version": "3.11.2"
  },
  "orig_nbformat": 4,
  "vscode": {
   "interpreter": {
    "hash": "0e6211f4dbd404090e74ff31c4dc7d4e647b81856ce75561fcf2eabbc5ea5534"
   }
  }
 },
 "nbformat": 4,
 "nbformat_minor": 2
}
