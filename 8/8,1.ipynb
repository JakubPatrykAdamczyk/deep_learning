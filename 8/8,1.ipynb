{
 "cells": [
  {
   "cell_type": "code",
   "execution_count": 1,
   "metadata": {},
   "outputs": [],
   "source": [
    "import numpy as np\n",
    "def reweight_distribution(orginal_distribution, temperature=0.5):\n",
    "    distribution=np.log(orginal_distribution)/temperature\n",
    "    distribution=np.exp(distribution)\n",
    "    return distribution/np.sum(distribution)"
   ]
  },
  {
   "cell_type": "code",
   "execution_count": 2,
   "metadata": {},
   "outputs": [
    {
     "name": "stdout",
     "output_type": "stream",
     "text": [
      "Corpus leght:  600901\n"
     ]
    }
   ],
   "source": [
    "import keras\n",
    "\n",
    "path=keras.utils.get_file('nietzsche.txt',origin='https://s3.amazonaws.com/text-datasets/nietzsche.txt')\n",
    "text=open(path).read().lower()\n",
    "print('Corpus leght: ', len(text))"
   ]
  },
  {
   "cell_type": "code",
   "execution_count": null,
   "metadata": {},
   "outputs": [],
   "source": [
    "# wyodrebnienie sekwencji składającej się z 60 znaków\n",
    "maxlen=60\n",
    "\n",
    "step=3\n",
    "\n",
    "sentences=[]\n",
    "next_chars=[]\n",
    "for i in range(0,len(text)-maxlen,step):\n",
    "    sentences.append(text[i:i+maxlen])\n",
    "    next_chars.append(text[i+maxlen])\n",
    "\n",
    "print('Liczba sekwencji: ',len(sentences))\n",
    "\n",
    "chars=sorted(list(set(text)))\n",
    "print('liczba unikatowych znaków: ', len(chars))\n",
    "char_indices=dict((char, chars.index(char))for char in chars)\n",
    "\n",
    "x=np.zeros((len(sentences),maxlen,len(chars)),dtype=np.bool)\n"
   ]
  }
 ],
 "metadata": {
  "kernelspec": {
   "display_name": "Python 3",
   "language": "python",
   "name": "python3"
  },
  "language_info": {
   "codemirror_mode": {
    "name": "ipython",
    "version": 3
   },
   "file_extension": ".py",
   "mimetype": "text/x-python",
   "name": "python",
   "nbconvert_exporter": "python",
   "pygments_lexer": "ipython3",
   "version": "3.11.2"
  },
  "orig_nbformat": 4
 },
 "nbformat": 4,
 "nbformat_minor": 2
}
