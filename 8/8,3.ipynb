{
 "cells": [
  {
   "cell_type": "code",
   "execution_count": null,
   "metadata": {},
   "outputs": [],
   "source": [
    "from keras.utils import load_img, img_to_array\n",
    "\n",
    "target_image_path='img/kot.jpeg'\n",
    "style_reference_image_path='img/star.jprg'\n",
    "\n",
    "width, height =load_img(target_image_path).size\n",
    "\n",
    "img_height=400\n",
    "img_width=int(width*img_height/height)"
   ]
  }
 ],
 "metadata": {
  "language_info": {
   "name": "python"
  },
  "orig_nbformat": 4
 },
 "nbformat": 4,
 "nbformat_minor": 2
}
