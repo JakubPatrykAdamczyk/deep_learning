{
 "cells": [
  {
   "cell_type": "code",
   "execution_count": null,
   "metadata": {},
   "outputs": [],
   "source": [
    "from keras.datasets import imdb\n",
    "from keras.preprocessing import sequence\n",
    "from keras import layers\n",
    "from keras.models import Sequential\n",
    "import matplotlib.pyplot as plt"
   ]
  },
  {
   "cell_type": "code",
   "execution_count": null,
   "metadata": {},
   "outputs": [],
   "source": [
    "max_features=10000\n",
    "maxlen=500\n",
    "\n",
    "(x_train,y_train),(x_test,y_test)=imdb.load_data(num_words=max_features)\n",
    "\n",
    "x_train=[x[::-1] for x in x_train]\n",
    "x_test=[x[::-1] for x in x_test]#odwracanie sekwencji\n",
    "\n",
    "#blokowanie sekwencji\n",
    "x_train=sequence.pad_sequences(x_train,maxlen=maxlen)\n",
    "x_test=sequence.pad_sequences(x_test,maxlen=maxlen)\n"
   ]
  },
  {
   "cell_type": "code",
   "execution_count": null,
   "metadata": {},
   "outputs": [],
   "source": [
    "model=Sequential()\n",
    "model.add(layers.Embedding(max_features,128))\n",
    "model.add(layers.LSTM(32))\n",
    "model.add(layers.Dense(1,activation='sigmoid'))\n",
    "\n",
    "model.compile(optimizer='rmsprop',\n",
    "              loss='binary_crossentropy',\n",
    "              metrics=['acc'])\n",
    "\n",
    "history=model.fit(x_train,y_train,\n",
    "                  epochs=10,\n",
    "                  batch_size=128,\n",
    "                  validation_split=0.2)"
   ]
  },
  {
   "cell_type": "code",
   "execution_count": null,
   "metadata": {},
   "outputs": [],
   "source": [
    "loss= history.history['loss']\n",
    "val_loss=history.history['val_loss']\n",
    "\n",
    "epochs=range(len(loss))\n",
    "\n",
    "plt.figure()\n",
    "plt.plot(epochs, loss,'bo',label='Strata trenowania')\n",
    "plt.plot(epochs, val_loss,'b',label='Strata walidacji')\n",
    "plt.title('Strata trenowania i walidacji')\n",
    "plt.legend()\n",
    "plt.show()"
   ]
  },
  {
   "cell_type": "code",
   "execution_count": null,
   "metadata": {},
   "outputs": [],
   "source": [
    "#tronowanie i walidacja 2 kierunkowa\n",
    "model=Sequential()\n",
    "model.add(layers.Embedding(max_features,32))\n",
    "model.add(layers.Bidirectional(layers.LSTM(32)))\n",
    "model.add(layers.Dense(1,activation='sigmoid'))\n",
    "\n",
    "model.compile(optimizer='rmsprop',\n",
    "              loss='binary_crossentropy',\n",
    "              metrics=['acc'])\n",
    "\n",
    "history=model.fit(x_train,y_train,\n",
    "                  epochs=10,\n",
    "                  batch_size=128,\n",
    "                  validation_split=0.2)"
   ]
  },
  {
   "cell_type": "code",
   "execution_count": null,
   "metadata": {},
   "outputs": [],
   "source": [
    "loss= history.history['loss']\n",
    "val_loss=history.history['val_loss']\n",
    "\n",
    "epochs=range(len(loss))\n",
    "\n",
    "plt.figure()\n",
    "plt.plot(epochs, loss,'bo',label='Strata trenowania')\n",
    "plt.plot(epochs, val_loss,'b',label='Strata walidacji')\n",
    "plt.title('Strata trenowania i walidacji')\n",
    "plt.legend()\n",
    "plt.show()"
   ]
  },
  {
   "cell_type": "code",
   "execution_count": null,
   "metadata": {},
   "outputs": [],
   "source": [
    "# #tronowanie i walidacja 2 kierunkowa GRU\n",
    "# from keras.optimizers import RMSprop\n",
    "\n",
    "# model=Sequential()\n",
    "# # model.add(layers.Embedding(max_features,32))\n",
    "# model.add(layers.Bidirectional(layers.GRU(32),input_shape=(None,float_data.shape[-1])))\n",
    "# model.add(layers.Dense(1))\n",
    "\n",
    "# model.compile(optimizer=RMSprop,\n",
    "#               loss='mae')\n",
    "\n",
    "# history=model.fit(x_train,y_train,\n",
    "#                   epochs=10,\n",
    "#                   batch_size=128,\n",
    "#                   validation_split=0.2)"
   ]
  },
  {
   "cell_type": "code",
   "execution_count": null,
   "metadata": {},
   "outputs": [],
   "source": [
    "# loss= history.history['loss']\n",
    "# val_loss=history.history['val_loss']\n",
    "\n",
    "# epochs=range(len(loss))\n",
    "\n",
    "# plt.figure()\n",
    "# plt.plot(epochs, loss,'bo',label='Strata trenowania')\n",
    "# plt.plot(epochs, val_loss,'b',label='Strata walidacji')\n",
    "# plt.title('Strata trenowania i walidacji')\n",
    "# plt.legend()\n",
    "# plt.show()"
   ]
  }
 ],
 "metadata": {
  "language_info": {
   "name": "python"
  },
  "orig_nbformat": 4
 },
 "nbformat": 4,
 "nbformat_minor": 2
}
