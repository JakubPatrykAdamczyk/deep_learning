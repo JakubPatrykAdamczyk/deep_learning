{
 "cells": [
  {
   "cell_type": "code",
   "execution_count": 1,
   "metadata": {},
   "outputs": [],
   "source": [
    "import numpy as np\n",
    "import string"
   ]
  },
  {
   "cell_type": "code",
   "execution_count": 2,
   "metadata": {},
   "outputs": [
    {
     "name": "stdout",
     "output_type": "stream",
     "text": [
      "[[[0. 1. 0. 0. 0. 0. 0. 0. 0. 0.]\n",
      "  [0. 0. 1. 0. 0. 0. 0. 0. 0. 0.]\n",
      "  [0. 0. 0. 1. 0. 0. 0. 0. 0. 0.]\n",
      "  [0. 0. 0. 0. 1. 0. 0. 0. 0. 0.]\n",
      "  [0. 0. 0. 0. 0. 0. 0. 0. 0. 0.]\n",
      "  [0. 0. 0. 0. 0. 0. 0. 0. 0. 0.]\n",
      "  [0. 0. 0. 0. 0. 0. 0. 0. 0. 0.]\n",
      "  [0. 0. 0. 0. 0. 0. 0. 0. 0. 0.]\n",
      "  [0. 0. 0. 0. 0. 0. 0. 0. 0. 0.]\n",
      "  [0. 0. 0. 0. 0. 0. 0. 0. 0. 0.]]\n",
      "\n",
      " [[0. 0. 0. 0. 0. 1. 0. 0. 0. 0.]\n",
      "  [0. 0. 0. 0. 0. 0. 1. 0. 0. 0.]\n",
      "  [0. 0. 0. 0. 0. 0. 0. 1. 0. 0.]\n",
      "  [0. 0. 0. 0. 0. 0. 0. 0. 1. 0.]\n",
      "  [0. 0. 0. 0. 0. 0. 0. 0. 0. 1.]\n",
      "  [0. 0. 0. 0. 0. 0. 0. 0. 0. 0.]\n",
      "  [0. 0. 0. 0. 0. 0. 0. 0. 0. 0.]\n",
      "  [0. 0. 0. 0. 0. 0. 0. 0. 0. 0.]\n",
      "  [0. 0. 0. 0. 0. 0. 0. 0. 0. 0.]\n",
      "  [0. 0. 0. 0. 0. 0. 0. 0. 0. 0.]]]\n"
     ]
    }
   ],
   "source": [
    "#kodowanie gorącą jedynką \n",
    "samples=['kot siedzi na sofie','pies zjadl moje zadanie domowe']\n",
    "token_index={}\n",
    "\n",
    "for sample in samples:\n",
    "    for word in sample.split():\n",
    "        if word not in token_index:\n",
    "            token_index[word]=len(token_index)+1\n",
    "\n",
    "max_lenght=10\n",
    "\n",
    "results=np.zeros((len(samples),max_lenght,max(token_index.values())+1))\n",
    "for i,sample in enumerate(samples):\n",
    "    for j, word in list(enumerate(sample.split()))[:max_lenght]:\n",
    "        index=token_index.get(word)\n",
    "        results[i,j,index]=1\n",
    "print(results)"
   ]
  },
  {
   "cell_type": "code",
   "execution_count": 3,
   "metadata": {},
   "outputs": [
    {
     "name": "stdout",
     "output_type": "stream",
     "text": [
      "[[[0. 0. 0. ... 0. 0. 0.]\n",
      "  [0. 0. 0. ... 0. 0. 0.]\n",
      "  [0. 0. 0. ... 0. 0. 0.]\n",
      "  ...\n",
      "  [0. 0. 0. ... 0. 0. 0.]\n",
      "  [0. 0. 0. ... 0. 0. 0.]\n",
      "  [0. 0. 0. ... 0. 0. 0.]]\n",
      "\n",
      " [[0. 0. 0. ... 0. 0. 0.]\n",
      "  [0. 0. 0. ... 0. 0. 0.]\n",
      "  [0. 0. 0. ... 1. 0. 0.]\n",
      "  ...\n",
      "  [0. 0. 0. ... 0. 0. 0.]\n",
      "  [0. 0. 0. ... 0. 0. 0.]\n",
      "  [0. 0. 0. ... 0. 0. 0.]]]\n"
     ]
    }
   ],
   "source": [
    "#kodowanie gorącą jedynką (char)\n",
    "samples=['kot siedzi na sofie','pies zjadl moje zadanie domowe']\n",
    "characters=string.printable #all ascii\n",
    "\n",
    "token_index=dict(zip(characters,range(1,len(characters)+1)))\n",
    "\n",
    "for sample in samples:\n",
    "    for word in sample.split():\n",
    "        if word not in token_index:\n",
    "            token_index[word]=len(token_index)+1\n",
    "\n",
    "max_lenght=50\n",
    "\n",
    "results=np.zeros((len(samples),max_lenght,max(token_index.values())+1))\n",
    "for i,sample in enumerate(samples):\n",
    "    for j, character in list(enumerate(sample.split()))[:max_lenght]:\n",
    "        index=token_index.get(character)\n",
    "        results[i,j,index]=1\n",
    "print(results)"
   ]
  },
  {
   "cell_type": "code",
   "execution_count": 4,
   "metadata": {},
   "outputs": [
    {
     "name": "stdout",
     "output_type": "stream",
     "text": [
      "znaleziono 13 unikatowych tokenow.\n",
      "znaleziono 13 unikatowych tokenow.\n"
     ]
    }
   ],
   "source": [
    "#keras \n",
    "from keras.preprocessing.text import Tokenizer\n",
    "samples=['kot siedzi na sofie','pies zjadl moje zadanie domowe']\n",
    "\n",
    "tokenizer=Tokenizer(num_words=1000)\n",
    "tokenizer.fit_on_texts(sample)\n",
    "\n",
    "sequences=tokenizer.texts_to_sequences(samples)\n",
    "one_hot_results=tokenizer.texts_to_matrix(samples,mode='binary')\n",
    "\n",
    "word_index=tokenizer.word_index\n",
    "ans=len(word_index)\n",
    "\n",
    "print('znaleziono %s unikatowych tokenow.' % len(word_index) )\n",
    "print(f'znaleziono {ans} unikatowych tokenow.')"
   ]
  },
  {
   "cell_type": "code",
   "execution_count": 5,
   "metadata": {},
   "outputs": [],
   "source": [
    "#haszowanie\n",
    "samples=['kot siedzi na sofie','pies zjadl moje zadanie domowe']\n",
    "dimensionality=1000\n",
    "max_lenght=10\n",
    "\n",
    "results=np.zeros((len(samples),max_lenght,dimensionality))\n",
    "\n",
    "for i, sample in enumerate(samples):\n",
    "    for j, word in list(enumerate(sample.split()))[:max_lenght]:\n",
    "        index=abs(hash(word))%dimensionality\n",
    "        results[i,j,index]=1.\n"
   ]
  }
 ],
 "metadata": {
  "kernelspec": {
   "display_name": "Python 3",
   "language": "python",
   "name": "python3"
  },
  "language_info": {
   "codemirror_mode": {
    "name": "ipython",
    "version": 3
   },
   "file_extension": ".py",
   "mimetype": "text/x-python",
   "name": "python",
   "nbconvert_exporter": "python",
   "pygments_lexer": "ipython3",
   "version": "3.10.9"
  },
  "orig_nbformat": 4,
  "vscode": {
   "interpreter": {
    "hash": "2f9c62f4ec1edd975e1b5f8110d7cf5153d4e6ef454a08f3a37cf01ef6e18f5d"
   }
  }
 },
 "nbformat": 4,
 "nbformat_minor": 2
}
